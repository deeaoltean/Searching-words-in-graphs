{
 "cells": [
  {
   "cell_type": "markdown",
   "metadata": {},
   "source": [
    "# Metoda Jacobi\n",
    "\n",
    "Metoda Jacobi este o metodă iterativă, folosită pentru calculul sistemelor liniare de mici dimensiuni, pentru că timpul necesar pentru a atinge acuratețea dorită este mult mai mic față de cel al metodelor directe(Eliminare Gaussiana). Pentru sistemele de dimensiuni mari, care au multe intrări 0, metoda este eficientă atât din punct de vedere computațional, cât și al spațiului. Fiind o metoda iterativă, algoritmul se poate opri dupa un anumit numar de pași in funcție de acuratețea dorită, având o complexitate $O(N^2)$.\n",
    "\n",
    "\n",
    "## Alegerea matricilor\n",
    "\n",
    "Pentru această metodă se aleg:\n",
    "- $N = D$\n",
    "- $P = L + U$ \n",
    "- $G = D^{-1}(L + U)$ \n",
    "\n",
    "Soluția sistemului fiind:\n",
    "$$x_i^{p + 1} = \\frac{b_i - \\sum_{j=1, j \\ne i}^n a_{ij}x_j^p}{a_{ii}}$$\n",
    "\n",
    "### Observație \n",
    "$\\begin{bmatrix}\n",
    "    d_{11} & 0 & 0 & \\dots & 0 \\\\\n",
    "    0 & d_{22} & 0 & \\dots & 0 \\\\\n",
    "    \\dots & \\dots & \\dots & \\dots & \\dots \\\\\n",
    "    0 & 0 & 0 &\\dots &d_{nn}\\\\\n",
    "    \\end{bmatrix} ^{-1}\n",
    "    = \n",
    "\\begin{bmatrix}\n",
    "    \\frac{1}{d_{11}} & 0 & 0 & \\dots & 0 \\\\\n",
    "    0 & \\frac{1}{d_{22}} & 0 & \\dots & 0 \\\\\n",
    "    \\dots & \\dots & \\dots & \\dots & \\dots \\\\\n",
    "    0 & 0 & 0 &\\dots & \\frac{1}{d_{nn}}\\\\\n",
    "    \\end{bmatrix}$\n",
    "\n",
    "\n",
    "## Convergența metodei\n",
    "\n",
    "Condiția necesară și suficientă de convergența este ca $\\rho(G) < 1$, unde $\\rho(G)$ este raza spectrală, adică   $max|\\lambda_i| < 1\\forall\\lambda_i \\in G$. \n"
   ]
  },
  {
   "cell_type": "markdown",
   "metadata": {},
   "source": [
    "- Exemplu matrice care nu converge:"
   ]
  },
  {
   "cell_type": "code",
   "execution_count": 1,
   "metadata": {},
   "outputs": [],
   "source": [
    "A = [1 2 4; 2 1 4; 3 1 2];\n",
    "d = diag(A);\n",
    "D = diag(d);\n",
    "L = tril(A) - D;\n",
    "U = triu(A) - D;\n",
    "G = inv(D) * (L + U);\n",
    "ro = max(eig(G));"
   ]
  },
  {
   "cell_type": "markdown",
   "metadata": {},
   "source": [
    "- Exemplu de matrice care converge:"
   ]
  },
  {
   "cell_type": "code",
   "execution_count": 2,
   "metadata": {},
   "outputs": [],
   "source": [
    "A = [2 -1; -1 2];\n",
    "d = diag(A);\n",
    "D = diag(d);\n",
    "L = tril(A) - D;\n",
    "U = triu(A) - D;\n",
    "G = inv(D) * (L + U);\n",
    "ro = max(eig(G));"
   ]
  },
  {
   "cell_type": "markdown",
   "metadata": {},
   "source": [
    "## Implementare"
   ]
  },
  {
   "cell_type": "code",
   "execution_count": 3,
   "metadata": {},
   "outputs": [],
   "source": [
    "function [x step] = Jacobi(A, b, x0, tol, max_iter)\n",
    "    % use this algorithm only if it converges\n",
    "    N = diag(diag(A));\n",
    "    P = N - A;\n",
    "    Gj = inv(N) * P;\n",
    "    \n",
    "    % TODO: check if the algorithm converges\n",
    "\n",
    "\n",
    "    n = length(b);\n",
    "    x = x0;\n",
    "    % iterate to the maximum number of iterations\n",
    "    for step = 1 : max_iter\n",
    "        % iterate through every x(i)\n",
    "        for i = 1 : n\n",
    "            % TODO: determine x(i)\n",
    "        endfor\n",
    "\n",
    "        % when the new values get close enough to the last values\n",
    "        % regarding the imposed tolerance \"tol\", we reached the solution\n",
    "        if norm(x - x0) < tol\n",
    "            break;\n",
    "        endif\n",
    "        % update the last computed values with the new values\n",
    "        x0 = x;\n",
    "    endfor\n",
    "endfunction"
   ]
  }
 ],
 "metadata": {
  "kernelspec": {
   "display_name": "Octave",
   "language": "octave",
   "name": "octave"
  },
  "language_info": {
   "file_extension": ".m",
   "help_links": [
    {
     "text": "GNU Octave",
     "url": "https://www.gnu.org/software/octave/support.html"
    },
    {
     "text": "Octave Kernel",
     "url": "https://github.com/Calysto/octave_kernel"
    },
    {
     "text": "MetaKernel Magics",
     "url": "https://github.com/calysto/metakernel/blob/master/metakernel/magics/README.md"
    }
   ],
   "mimetype": "text/x-octave",
   "name": "octave",
   "version": "4.2.1"
  }
 },
 "nbformat": 4,
 "nbformat_minor": 2
}
